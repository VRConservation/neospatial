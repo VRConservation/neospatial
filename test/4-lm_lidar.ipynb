{
 "cells": [
  {
   "cell_type": "code",
   "execution_count": 1,
   "id": "1a3fbc81",
   "metadata": {},
   "outputs": [],
   "source": [
    "import os\n",
    "import leafmap"
   ]
  },
  {
   "cell_type": "code",
   "execution_count": 2,
   "id": "d0e5f4c4",
   "metadata": {},
   "outputs": [],
   "source": [
    "bldr = '/home/surface/Downloads/colorado-flood/spatial/boulder-lidar-points/bldr_flood_sm.laz'\n",
    "las = leafmap.read_lidar(bldr)"
   ]
  },
  {
   "cell_type": "code",
   "execution_count": null,
   "id": "a4ef21ee",
   "metadata": {},
   "outputs": [],
   "source": [
    "las.header\n"
   ]
  },
  {
   "cell_type": "code",
   "execution_count": null,
   "metadata": {},
   "outputs": [],
   "source": [
    "las.header.point_count"
   ]
  },
  {
   "cell_type": "code",
   "execution_count": null,
   "id": "6fd27f74",
   "metadata": {},
   "outputs": [],
   "source": [
    "list(las.point_format.dimension_names)"
   ]
  },
  {
   "cell_type": "code",
   "execution_count": null,
   "id": "c2f17f55",
   "metadata": {},
   "outputs": [],
   "source": [
    "las.intensity"
   ]
  },
  {
   "cell_type": "code",
   "execution_count": 3,
   "id": "8016632e",
   "metadata": {},
   "outputs": [
    {
     "data": {
      "text/plain": [
       "array([8700024, 8700129, 8700240, ..., 8765568, 8765538, 8765498],\n",
       "      dtype=int32)"
      ]
     },
     "execution_count": 3,
     "metadata": {},
     "output_type": "execute_result"
    }
   ],
   "source": [
    "las.X"
   ]
  },
  {
   "cell_type": "code",
   "execution_count": null,
   "id": "ed4fc35f",
   "metadata": {},
   "outputs": [],
   "source": [
    "# The next line causes the kernel to crash\n",
    "# leafmap.view_lidar(bldr, backend=\"ipygany\", background=\"white\")"
   ]
  },
  {
   "cell_type": "code",
   "execution_count": null,
   "id": "9fbe6678",
   "metadata": {},
   "outputs": [],
   "source": []
  }
 ],
 "metadata": {
  "kernelspec": {
   "display_name": "geo",
   "language": "python",
   "name": "python3"
  },
  "language_info": {
   "codemirror_mode": {
    "name": "ipython",
    "version": 3
   },
   "file_extension": ".py",
   "mimetype": "text/x-python",
   "name": "python",
   "nbconvert_exporter": "python",
   "pygments_lexer": "ipython3",
   "version": "3.11.8"
  }
 },
 "nbformat": 4,
 "nbformat_minor": 5
}
